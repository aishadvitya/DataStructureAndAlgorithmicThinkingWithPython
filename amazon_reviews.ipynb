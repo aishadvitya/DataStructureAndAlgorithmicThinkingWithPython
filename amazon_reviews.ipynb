{
  "nbformat": 4,
  "nbformat_minor": 0,
  "metadata": {
    "colab": {
      "name": "amazon_reviews.ipynb",
      "provenance": [],
      "collapsed_sections": [],
      "authorship_tag": "ABX9TyMW9u8OvLTSVlVnOVZijNpk",
      "include_colab_link": true
    },
    "kernelspec": {
      "name": "python3",
      "display_name": "Python 3"
    }
  },
  "cells": [
    {
      "cell_type": "markdown",
      "metadata": {
        "id": "view-in-github",
        "colab_type": "text"
      },
      "source": [
        "<a href=\"https://colab.research.google.com/github/aishadvitya/DataStructureAndAlgorithmicThinkingWithPython/blob/master/amazon_reviews.ipynb\" target=\"_parent\"><img src=\"https://colab.research.google.com/assets/colab-badge.svg\" alt=\"Open In Colab\"/></a>"
      ]
    },
    {
      "cell_type": "markdown",
      "metadata": {
        "id": "WAb0gfLEY3xR"
      },
      "source": [
        "Import libraries "
      ]
    },
    {
      "cell_type": "code",
      "metadata": {
        "id": "TYlDFfHxYxZa"
      },
      "source": [
        "mport numpy as np\r\n",
        "import pandas as pd\r\n",
        "import matplotlib.pyplot as plt\r\n",
        "from datetime import datetime\r\n",
        "import seaborn as sns\r\n",
        "from collections import Counter\r\n",
        "from tqdm import tqdm_notebook as tqdm\r\n",
        "\r\n",
        "import keras\r\n",
        "from keras.preprocessing import sequence\r\n",
        "from keras.models import Sequential\r\n",
        "from keras import layers\r\n",
        "from keras.optimizers import Adam\r\n",
        "from sklearn.utils import shuffle\r\n",
        "from sklearn.model_selection import train_test_split\r\n",
        "from    keras.callbacks   import ModelCheckpoint \r\n",
        "\r\n",
        "pd.options.mode.chained_assignment = None  # default='warn'\r\n",
        "\r\n",
        "%matplotlib inline\r\n",
        "\r\n",
        "import os\r\n",
        "import json\r\n",
        "import gzip\r\n",
        "import pandas as pd\r\n",
        "from urllib.request import urlopen\r\n",
        "\r\n"
      ],
      "execution_count": null,
      "outputs": []
    },
    {
      "cell_type": "code",
      "metadata": {
        "colab": {
          "base_uri": "https://localhost:8080/"
        },
        "id": "xUQK-M2ybfGm",
        "outputId": "2c076bd0-5c03-4ab8-c671-de9ac4f6fa2f"
      },
      "source": [
        "\r\n",
        "!wget http://deepyeti.ucsd.edu/jianmo/amazon/categoryFilesSmall/Books_5.json.gz"
      ],
      "execution_count": 2,
      "outputs": [
        {
          "output_type": "stream",
          "text": [
            "--2021-02-27 22:01:14--  http://deepyeti.ucsd.edu/jianmo/amazon/categoryFilesSmall/Books_5.json.gz\n",
            "Resolving deepyeti.ucsd.edu (deepyeti.ucsd.edu)... 169.228.63.50\n",
            "Connecting to deepyeti.ucsd.edu (deepyeti.ucsd.edu)|169.228.63.50|:80... connected.\n",
            "HTTP request sent, awaiting response... 200 OK\n",
            "Length: 7096438325 (6.6G) [application/octet-stream]\n",
            "Saving to: ‘Books_5.json.gz’\n",
            "\n",
            "Books_5.json.gz     100%[===================>]   6.61G  20.4MB/s    in 5m 35s  \n",
            "\n",
            "2021-02-27 22:06:49 (20.2 MB/s) - ‘Books_5.json.gz’ saved [7096438325/7096438325]\n",
            "\n"
          ],
          "name": "stdout"
        }
      ]
    },
    {
      "cell_type": "code",
      "metadata": {
        "id": "7zvEd-VAbgZ-"
      },
      "source": [
        "import pandas as pd\r\n",
        "import gzip\r\n",
        "import json\r\n",
        "\r\n",
        "def parse(path):\r\n",
        "  g = gzip.open(path, 'rb')\r\n",
        "  for l in g:\r\n",
        "    yield json.loads(l)\r\n",
        "\r\n",
        "def getDF(path):\r\n",
        "  i = 0\r\n",
        "  df = {}\r\n",
        "  for d in parse(path):\r\n",
        "    df[i] = d\r\n",
        "    i += 1\r\n",
        "  return pd.DataFrame.from_dict(df, orient='index')\r\n",
        "\r\n",
        "df = getDF('C:\\\\Users\\\\aisha\\\\Downloads\\\\Musical_Instruments_5.json.gz')\r\n",
        "\r\n"
      ],
      "execution_count": 1,
      "outputs": []
    },
    {
      "cell_type": "code",
      "metadata": {
        "id": "ZpoNfgY2p9YO"
      },
      "source": [
        "df.to_csv('D:\\\\ML\\\\CA1\\\\data.csv')"
      ],
      "execution_count": 3,
      "outputs": []
    },
    {
      "cell_type": "code",
      "metadata": {
        "colab": {
          "base_uri": "https://localhost:8080/",
          "height": 409
        },
        "id": "ir5lLN9dwePv",
        "outputId": "f0e6e81f-f879-4d79-d031-fbb9187a5e75"
      },
      "source": [
        "df.head()"
      ],
      "execution_count": 6,
      "outputs": [
        {
          "output_type": "execute_result",
          "data": {
            "text/plain": [
              "   overall  verified   reviewTime      reviewerID        asin  \\\n",
              "0      5.0      True  10 30, 2016  A3FO5AKVTFRCRJ  0739079891   \n",
              "1      5.0      True  06 30, 2016  A3UCGC1DHFMBCE  0739079891   \n",
              "2      5.0      True   05 9, 2016  A2S9SLRYLPGYZB  0739079891   \n",
              "3      4.0      True  04 10, 2016  A15RTJWPG8OKOE  0739079891   \n",
              "4      1.0      True   02 6, 2016  A12ET1WO3OAVU7  0739079891   \n",
              "\n",
              "      reviewerName                                         reviewText  \\\n",
              "0        francisco                            It's good for beginners   \n",
              "1   Eb Jack Murray  I recommend this starter Ukulele kit.  I has e...   \n",
              "2     Clara LaMarr  G'daughter received this for Christmas present...   \n",
              "3          Eagle80  According to my order history, I bought this t...   \n",
              "4  Amazon Customer  Please pay attention better than I did to the ...   \n",
              "\n",
              "                                             summary  unixReviewTime vote  \\\n",
              "0                                         Five Stars      1477785600  NaN   \n",
              "1                                         Five Stars      1467244800  NaN   \n",
              "2               Learning new songs to play regularly      1462752000  NaN   \n",
              "3  A bargain-bin good-enough ukulele that's held ...      1460246400  NaN   \n",
              "4                              Poor Quality product.      1454716800  NaN   \n",
              "\n",
              "  style image  \n",
              "0   NaN   NaN  \n",
              "1   NaN   NaN  \n",
              "2   NaN   NaN  \n",
              "3   NaN   NaN  \n",
              "4   NaN   NaN  "
            ],
            "text/html": [
              "<div>\n",
              "<style scoped>\n",
              "    .dataframe tbody tr th:only-of-type {\n",
              "        vertical-align: middle;\n",
              "    }\n",
              "\n",
              "    .dataframe tbody tr th {\n",
              "        vertical-align: top;\n",
              "    }\n",
              "\n",
              "    .dataframe thead th {\n",
              "        text-align: right;\n",
              "    }\n",
              "</style>\n",
              "<table border=\"1\" class=\"dataframe\">\n",
              "  <thead>\n",
              "    <tr style=\"text-align: right;\">\n",
              "      <th></th>\n",
              "      <th>overall</th>\n",
              "      <th>verified</th>\n",
              "      <th>reviewTime</th>\n",
              "      <th>reviewerID</th>\n",
              "      <th>asin</th>\n",
              "      <th>reviewerName</th>\n",
              "      <th>reviewText</th>\n",
              "      <th>summary</th>\n",
              "      <th>unixReviewTime</th>\n",
              "      <th>vote</th>\n",
              "      <th>style</th>\n",
              "      <th>image</th>\n",
              "    </tr>\n",
              "  </thead>\n",
              "  <tbody>\n",
              "    <tr>\n",
              "      <th>0</th>\n",
              "      <td>5.0</td>\n",
              "      <td>True</td>\n",
              "      <td>10 30, 2016</td>\n",
              "      <td>A3FO5AKVTFRCRJ</td>\n",
              "      <td>0739079891</td>\n",
              "      <td>francisco</td>\n",
              "      <td>It's good for beginners</td>\n",
              "      <td>Five Stars</td>\n",
              "      <td>1477785600</td>\n",
              "      <td>NaN</td>\n",
              "      <td>NaN</td>\n",
              "      <td>NaN</td>\n",
              "    </tr>\n",
              "    <tr>\n",
              "      <th>1</th>\n",
              "      <td>5.0</td>\n",
              "      <td>True</td>\n",
              "      <td>06 30, 2016</td>\n",
              "      <td>A3UCGC1DHFMBCE</td>\n",
              "      <td>0739079891</td>\n",
              "      <td>Eb Jack Murray</td>\n",
              "      <td>I recommend this starter Ukulele kit.  I has e...</td>\n",
              "      <td>Five Stars</td>\n",
              "      <td>1467244800</td>\n",
              "      <td>NaN</td>\n",
              "      <td>NaN</td>\n",
              "      <td>NaN</td>\n",
              "    </tr>\n",
              "    <tr>\n",
              "      <th>2</th>\n",
              "      <td>5.0</td>\n",
              "      <td>True</td>\n",
              "      <td>05 9, 2016</td>\n",
              "      <td>A2S9SLRYLPGYZB</td>\n",
              "      <td>0739079891</td>\n",
              "      <td>Clara LaMarr</td>\n",
              "      <td>G'daughter received this for Christmas present...</td>\n",
              "      <td>Learning new songs to play regularly</td>\n",
              "      <td>1462752000</td>\n",
              "      <td>NaN</td>\n",
              "      <td>NaN</td>\n",
              "      <td>NaN</td>\n",
              "    </tr>\n",
              "    <tr>\n",
              "      <th>3</th>\n",
              "      <td>4.0</td>\n",
              "      <td>True</td>\n",
              "      <td>04 10, 2016</td>\n",
              "      <td>A15RTJWPG8OKOE</td>\n",
              "      <td>0739079891</td>\n",
              "      <td>Eagle80</td>\n",
              "      <td>According to my order history, I bought this t...</td>\n",
              "      <td>A bargain-bin good-enough ukulele that's held ...</td>\n",
              "      <td>1460246400</td>\n",
              "      <td>NaN</td>\n",
              "      <td>NaN</td>\n",
              "      <td>NaN</td>\n",
              "    </tr>\n",
              "    <tr>\n",
              "      <th>4</th>\n",
              "      <td>1.0</td>\n",
              "      <td>True</td>\n",
              "      <td>02 6, 2016</td>\n",
              "      <td>A12ET1WO3OAVU7</td>\n",
              "      <td>0739079891</td>\n",
              "      <td>Amazon Customer</td>\n",
              "      <td>Please pay attention better than I did to the ...</td>\n",
              "      <td>Poor Quality product.</td>\n",
              "      <td>1454716800</td>\n",
              "      <td>NaN</td>\n",
              "      <td>NaN</td>\n",
              "      <td>NaN</td>\n",
              "    </tr>\n",
              "  </tbody>\n",
              "</table>\n",
              "</div>"
            ]
          },
          "metadata": {
            "tags": []
          },
          "execution_count": 6
        }
      ]
    },
    {
      "cell_type": "code",
      "metadata": {
        "id": "WO8ogzoxwzKP"
      },
      "source": [
        "df=pd.read_csv('D:\\\\ML\\\\CA1\\\\data.csv')\r\n",
        "\r\n",
        "userId='reviewerID'\r\n",
        "productId='asin'\r\n",
        "text='reviewText'\r\n",
        "summary='summary'"
      ],
      "execution_count": 51,
      "outputs": []
    },
    {
      "cell_type": "code",
      "metadata": {
        "colab": {
          "base_uri": "https://localhost:8080/"
        },
        "id": "Gm8V7QnQcReR",
        "outputId": "21d3eb71-1416-4b14-ca22-b294d676efd1"
      },
      "source": [
        "#No of unique products \r\n",
        "print('Number of unique products:', len(df[productId].unique()))\r\n",
        "\r\n",
        "print('Number of unique users:', len(df[userId].unique()))\r\n",
        "print('Estimate of number unique reviews:', len(df[text].unique()))\r\n",
        "len(df[summary].unique())\r\n",
        "\r\n",
        "\r\n",
        "((df.groupby(by=[userId,productId]).count().sort_values(by=['reviewText'],ascending=False)>1)==True).sum()\r\n",
        "\r\n",
        "df = df.sort_values(productId,axis=0,ascending=True,kind='quicksort',na_position='last')\r\n",
        "df.head()\r\n",
        "df=df.drop_duplicates(subset=[userId,productId], keep='first', inplace=False)\r\n",
        "print(df.shape)"
      ],
      "execution_count": 52,
      "outputs": [
        {
          "output_type": "stream",
          "text": [
            "Number of unique products: 10620\n",
            "Number of unique users: 27530\n",
            "Estimate of number unique reviews: 188726\n",
            "(219156, 13)\n"
          ],
          "name": "stdout"
        }
      ]
    },
    {
      "cell_type": "code",
      "metadata": {
        "colab": {
          "base_uri": "https://localhost:8080/",
          "height": 259
        },
        "id": "wTjScX8sxJqP",
        "outputId": "ef3f34fc-cbcd-4ed5-a827-f9cb5b720ebc"
      },
      "source": [
        "df.groupby(by=[userId,productId]).count().sort_values(by=['reviewText'],ascending=False).head()\r\n"
      ],
      "execution_count": 53,
      "outputs": [
        {
          "output_type": "execute_result",
          "data": {
            "text/plain": [
              "                                 Unnamed: 0  overall  verified  reviewTime  \\\n",
              "reviewerID           asin                                                    \n",
              "A0072193KFP6LUHKEXLT B000068O35           1        1         1           1   \n",
              "A3IDC5FP52KJWJ       B000KGYAYQ           1        1         1           1   \n",
              "                     B000PO30QM           1        1         1           1   \n",
              "                     B00186HCX8           1        1         1           1   \n",
              "                     B00186J790           1        1         1           1   \n",
              "\n",
              "                                 reviewerName  reviewText  summary  \\\n",
              "reviewerID           asin                                            \n",
              "A0072193KFP6LUHKEXLT B000068O35             1           1        1   \n",
              "A3IDC5FP52KJWJ       B000KGYAYQ             1           1        1   \n",
              "                     B000PO30QM             1           1        1   \n",
              "                     B00186HCX8             1           1        1   \n",
              "                     B00186J790             1           1        1   \n",
              "\n",
              "                                 unixReviewTime  vote  style  image  \n",
              "reviewerID           asin                                            \n",
              "A0072193KFP6LUHKEXLT B000068O35               1     0      1      0  \n",
              "A3IDC5FP52KJWJ       B000KGYAYQ               1     0      1      0  \n",
              "                     B000PO30QM               1     0      1      0  \n",
              "                     B00186HCX8               1     0      1      1  \n",
              "                     B00186J790               1     0      1      0  "
            ],
            "text/html": [
              "<div>\n",
              "<style scoped>\n",
              "    .dataframe tbody tr th:only-of-type {\n",
              "        vertical-align: middle;\n",
              "    }\n",
              "\n",
              "    .dataframe tbody tr th {\n",
              "        vertical-align: top;\n",
              "    }\n",
              "\n",
              "    .dataframe thead th {\n",
              "        text-align: right;\n",
              "    }\n",
              "</style>\n",
              "<table border=\"1\" class=\"dataframe\">\n",
              "  <thead>\n",
              "    <tr style=\"text-align: right;\">\n",
              "      <th></th>\n",
              "      <th></th>\n",
              "      <th>Unnamed: 0</th>\n",
              "      <th>overall</th>\n",
              "      <th>verified</th>\n",
              "      <th>reviewTime</th>\n",
              "      <th>reviewerName</th>\n",
              "      <th>reviewText</th>\n",
              "      <th>summary</th>\n",
              "      <th>unixReviewTime</th>\n",
              "      <th>vote</th>\n",
              "      <th>style</th>\n",
              "      <th>image</th>\n",
              "    </tr>\n",
              "    <tr>\n",
              "      <th>reviewerID</th>\n",
              "      <th>asin</th>\n",
              "      <th></th>\n",
              "      <th></th>\n",
              "      <th></th>\n",
              "      <th></th>\n",
              "      <th></th>\n",
              "      <th></th>\n",
              "      <th></th>\n",
              "      <th></th>\n",
              "      <th></th>\n",
              "      <th></th>\n",
              "      <th></th>\n",
              "    </tr>\n",
              "  </thead>\n",
              "  <tbody>\n",
              "    <tr>\n",
              "      <th>A0072193KFP6LUHKEXLT</th>\n",
              "      <th>B000068O35</th>\n",
              "      <td>1</td>\n",
              "      <td>1</td>\n",
              "      <td>1</td>\n",
              "      <td>1</td>\n",
              "      <td>1</td>\n",
              "      <td>1</td>\n",
              "      <td>1</td>\n",
              "      <td>1</td>\n",
              "      <td>0</td>\n",
              "      <td>1</td>\n",
              "      <td>0</td>\n",
              "    </tr>\n",
              "    <tr>\n",
              "      <th rowspan=\"4\" valign=\"top\">A3IDC5FP52KJWJ</th>\n",
              "      <th>B000KGYAYQ</th>\n",
              "      <td>1</td>\n",
              "      <td>1</td>\n",
              "      <td>1</td>\n",
              "      <td>1</td>\n",
              "      <td>1</td>\n",
              "      <td>1</td>\n",
              "      <td>1</td>\n",
              "      <td>1</td>\n",
              "      <td>0</td>\n",
              "      <td>1</td>\n",
              "      <td>0</td>\n",
              "    </tr>\n",
              "    <tr>\n",
              "      <th>B000PO30QM</th>\n",
              "      <td>1</td>\n",
              "      <td>1</td>\n",
              "      <td>1</td>\n",
              "      <td>1</td>\n",
              "      <td>1</td>\n",
              "      <td>1</td>\n",
              "      <td>1</td>\n",
              "      <td>1</td>\n",
              "      <td>0</td>\n",
              "      <td>1</td>\n",
              "      <td>0</td>\n",
              "    </tr>\n",
              "    <tr>\n",
              "      <th>B00186HCX8</th>\n",
              "      <td>1</td>\n",
              "      <td>1</td>\n",
              "      <td>1</td>\n",
              "      <td>1</td>\n",
              "      <td>1</td>\n",
              "      <td>1</td>\n",
              "      <td>1</td>\n",
              "      <td>1</td>\n",
              "      <td>0</td>\n",
              "      <td>1</td>\n",
              "      <td>1</td>\n",
              "    </tr>\n",
              "    <tr>\n",
              "      <th>B00186J790</th>\n",
              "      <td>1</td>\n",
              "      <td>1</td>\n",
              "      <td>1</td>\n",
              "      <td>1</td>\n",
              "      <td>1</td>\n",
              "      <td>1</td>\n",
              "      <td>1</td>\n",
              "      <td>1</td>\n",
              "      <td>0</td>\n",
              "      <td>1</td>\n",
              "      <td>0</td>\n",
              "    </tr>\n",
              "  </tbody>\n",
              "</table>\n",
              "</div>"
            ]
          },
          "metadata": {
            "tags": []
          },
          "execution_count": 53
        }
      ]
    },
    {
      "cell_type": "code",
      "metadata": {
        "colab": {
          "base_uri": "https://localhost:8080/"
        },
        "id": "wsDlTvArzG2w",
        "outputId": "5d4f2ac3-922d-4893-8e72-bedc2c8f957d"
      },
      "source": [
        "#Are there duplicate reviews\r\n",
        "((df.groupby(by=[userId,productId]).count().sort_values(by=[text],ascending=False)>1)==True).sum()\r\n"
      ],
      "execution_count": 54,
      "outputs": [
        {
          "output_type": "execute_result",
          "data": {
            "text/plain": [
              "Unnamed: 0        0\n",
              "overall           0\n",
              "verified          0\n",
              "reviewTime        0\n",
              "reviewerName      0\n",
              "reviewText        0\n",
              "summary           0\n",
              "unixReviewTime    0\n",
              "vote              0\n",
              "style             0\n",
              "image             0\n",
              "dtype: int64"
            ]
          },
          "metadata": {
            "tags": []
          },
          "execution_count": 54
        }
      ]
    },
    {
      "cell_type": "code",
      "metadata": {
        "id": "n39nXImNzXWG"
      },
      "source": [
        "df=df.drop_duplicates(subset=[userId,productId], keep='first', inplace=False)\r\n"
      ],
      "execution_count": 55,
      "outputs": []
    },
    {
      "cell_type": "code",
      "metadata": {
        "colab": {
          "base_uri": "https://localhost:8080/"
        },
        "id": "X9NNvpz4xdGO",
        "outputId": "2fc3407e-5a33-46d6-89ca-b6f7bd96844d"
      },
      "source": [
        "print(df.isna().any())\r\n",
        "df.dropna(axis=0,inplace=True,how='all')\r\n"
      ],
      "execution_count": 56,
      "outputs": [
        {
          "output_type": "stream",
          "text": [
            "Unnamed: 0        False\n",
            "overall           False\n",
            "verified          False\n",
            "reviewTime        False\n",
            "reviewerID        False\n",
            "asin              False\n",
            "reviewerName       True\n",
            "reviewText         True\n",
            "summary            True\n",
            "unixReviewTime    False\n",
            "vote               True\n",
            "style              True\n",
            "image              True\n",
            "dtype: bool\n"
          ],
          "name": "stdout"
        }
      ]
    },
    {
      "cell_type": "code",
      "metadata": {
        "id": "zz-PKvxsxgtG"
      },
      "source": [
        "from datetime import datetime\r\n",
        "\r\n",
        "# converting unix time to year/month/day format, hour/min/sec is not available\r\n",
        "df['reviewTime']=df['unixReviewTime'].apply(lambda col: datetime.utcfromtimestamp(int(col)).strftime('%Y-%m-%d'))\r\n",
        "#strftime('%Y-%m-%d %H:%M:%S'))\r\n",
        "df['reviewTime_hms']=df['unixReviewTime'].apply(lambda col: datetime.utcfromtimestamp(int(col)).strftime('%Y-%m'))"
      ],
      "execution_count": 57,
      "outputs": []
    },
    {
      "cell_type": "code",
      "metadata": {
        "colab": {
          "base_uri": "https://localhost:8080/"
        },
        "id": "MaE82exsxkxu",
        "outputId": "cfae687d-474e-4745-ee4c-2f873496b1b0"
      },
      "source": [
        "df.shape"
      ],
      "execution_count": 58,
      "outputs": [
        {
          "output_type": "execute_result",
          "data": {
            "text/plain": [
              "(219156, 14)"
            ]
          },
          "metadata": {
            "tags": []
          },
          "execution_count": 58
        }
      ]
    },
    {
      "cell_type": "code",
      "metadata": {
        "id": "oDtX3zYo0fWv"
      },
      "source": [
        "def clean_span(col):  \r\n",
        "    col=str(col)\r\n",
        "    if('<span' not in col.lower()):\r\n",
        "\r\n",
        "        return col.lower()"
      ],
      "execution_count": 59,
      "outputs": []
    },
    {
      "cell_type": "code",
      "metadata": {
        "colab": {
          "base_uri": "https://localhost:8080/"
        },
        "id": "Q4xC4JZP0iYm",
        "outputId": "16f0827e-00a3-4014-93c2-216f10f4942a"
      },
      "source": [
        "df['text_new']=df[text].apply(clean_span)\r\n",
        "df.drop('style',axis=1,inplace=True)\r\n",
        "df.drop('image',axis=1,inplace=True)\r\n",
        "df.isnull().sum()\r\n",
        "\r\n"
      ],
      "execution_count": 60,
      "outputs": [
        {
          "output_type": "execute_result",
          "data": {
            "text/plain": [
              "Unnamed: 0             0\n",
              "overall                0\n",
              "verified               0\n",
              "reviewTime             0\n",
              "reviewerID             0\n",
              "asin                   0\n",
              "reviewerName          37\n",
              "reviewText            47\n",
              "summary               49\n",
              "unixReviewTime         0\n",
              "vote              186619\n",
              "reviewTime_hms         0\n",
              "text_new               0\n",
              "dtype: int64"
            ]
          },
          "metadata": {
            "tags": []
          },
          "execution_count": 60
        }
      ]
    },
    {
      "cell_type": "code",
      "metadata": {
        "id": "4qwOmQPZ1Rex"
      },
      "source": [
        "df=df.fillna({'vote':0})"
      ],
      "execution_count": 63,
      "outputs": []
    },
    {
      "cell_type": "code",
      "metadata": {
        "colab": {
          "base_uri": "https://localhost:8080/"
        },
        "id": "qSJglWD81_lO",
        "outputId": "1f6ed3c5-0fea-4b9b-8a73-6f2e7a05082d"
      },
      "source": [
        "df.isnull().sum()"
      ],
      "execution_count": 64,
      "outputs": [
        {
          "output_type": "execute_result",
          "data": {
            "text/plain": [
              "Unnamed: 0         0\n",
              "overall            0\n",
              "verified           0\n",
              "reviewTime         0\n",
              "reviewerID         0\n",
              "asin               0\n",
              "reviewerName      37\n",
              "reviewText        47\n",
              "summary           49\n",
              "unixReviewTime     0\n",
              "vote               0\n",
              "reviewTime_hms     0\n",
              "text_new           0\n",
              "dtype: int64"
            ]
          },
          "metadata": {
            "tags": []
          },
          "execution_count": 64
        }
      ]
    },
    {
      "cell_type": "code",
      "metadata": {
        "colab": {
          "base_uri": "https://localhost:8080/"
        },
        "id": "DpOPLr_K2Qgt",
        "outputId": "7772f00e-8b37-49f7-daf9-38c83d6ff974"
      },
      "source": [
        "df.dropna(inplace=True)\r\n",
        "df.shape"
      ],
      "execution_count": 66,
      "outputs": [
        {
          "output_type": "execute_result",
          "data": {
            "text/plain": [
              "(219024, 13)"
            ]
          },
          "metadata": {
            "tags": []
          },
          "execution_count": 66
        }
      ]
    },
    {
      "cell_type": "code",
      "metadata": {
        "colab": {
          "base_uri": "https://localhost:8080/"
        },
        "id": "DdD7CLtU2kc1",
        "outputId": "3884dc83-9761-4f71-b258-7e6366e68388"
      },
      "source": [
        "import re\r\n",
        "\r\n",
        "#Decontraction : expand words\r\n",
        "def decontraction(word):\r\n",
        "    # specific\r\n",
        "    word = re.sub(r\"won't\", \"will not\", word)\r\n",
        "    word = re.sub(r\"can\\'t\", \"can not\", word)\r\n",
        "\r\n",
        "    # general\r\n",
        "    word = re.sub(r\"n\\'t\", \" not\", word)\r\n",
        "    word = re.sub(r\"\\'re\", \" are\", word)\r\n",
        "    word = re.sub(r\"\\'s\", \" is\", word)\r\n",
        "    word = re.sub(r\"\\'d\", \" would\", word)\r\n",
        "    word = re.sub(r\"\\'ll\", \" will\", word)\r\n",
        "    word = re.sub(r\"\\'t\", \" not\", word)\r\n",
        "    word = re.sub(r\"\\'ve\", \" have\", word)\r\n",
        "    word = re.sub(r\"\\'m\", \" am\", word)\r\n",
        "    return word\r\n",
        "\r\n",
        "print(df[text].values[900])\r\n",
        "# As we can there is \"'t\" in our sentence. we need to replace all these words to their original words.\r\n",
        "print(\"\\n\",'='*50,'\\n')\r\n",
        "\r\n",
        "# For this to fully work first we need to convert the sentence to lower case.\r\n",
        "# Anyways we can are going to use it here as this is just an example.\r\n",
        "print(decontraction(df[text].values[900]))"
      ],
      "execution_count": 69,
      "outputs": [
        {
          "output_type": "stream",
          "text": [
            "great cable at a great price!\n",
            "\n",
            " ================================================== \n",
            "\n",
            "great cable at a great price!\n"
          ],
          "name": "stdout"
        }
      ]
    },
    {
      "cell_type": "code",
      "metadata": {
        "colab": {
          "base_uri": "https://localhost:8080/"
        },
        "id": "xX37804i3q5v",
        "outputId": "7ab5cc03-48b1-4454-e2bf-294ae0cb313a"
      },
      "source": [
        "#Remove stop words ..\r\n",
        "stopwords= set(['br', 'the', 'i', 'me', 'my', 'myself', 'we', 'our', 'ours', 'ourselves', 'you', \"you're\", \"you've\",\\\r\n",
        "            \"you'll\", \"you'd\", 'your', 'yours', 'yourself', 'yourselves', 'he', 'him', 'his', 'himself', \\\r\n",
        "            'she', \"she's\", 'her', 'hers', 'herself', 'it', \"it's\", 'its', 'itself', 'they', 'them', 'their',\\\r\n",
        "            'theirs', 'themselves', 'what', 'which', 'who', 'whom', 'this', 'that', \"that'll\", 'these', 'those', \\\r\n",
        "            'am', 'is', 'are', 'was', 'were', 'be', 'been', 'being', 'have', 'has', 'had', 'having', 'do', 'does', \\\r\n",
        "            'did', 'doing', 'a', 'an', 'the', 'and', 'but', 'if', 'or', 'because', 'as', 'until', 'while', 'of', \\\r\n",
        "            'at', 'by', 'for', 'with', 'about', 'against', 'between', 'into', 'through', 'during', 'before', 'after',\\\r\n",
        "            'above', 'below', 'to', 'from', 'up', 'down', 'in', 'out', 'on', 'off', 'over', 'under', 'again', 'further',\\\r\n",
        "            'then', 'once', 'here', 'there', 'when', 'where', 'why', 'how', 'all', 'any', 'both', 'each', 'few', 'more',\\\r\n",
        "            'most', 'other', 'some', 'such', 'only', 'own', 'same', 'so', 'than', 'too', 'very', \\\r\n",
        "            's', 't', 'can', 'will', 'just', 'don', \"don't\", 'should', \"should've\", 'now', 'd', 'll', 'm', 'o', 're', \\\r\n",
        "            've', 'y', 'ain', 'aren', \"aren't\", 'couldn', \"couldn't\", 'didn', \"didn't\", 'doesn', \"doesn't\", 'hadn',\\\r\n",
        "            \"hadn't\", 'hasn', \"hasn't\", 'haven', \"haven't\", 'isn', \"isn't\", 'ma', 'mightn', \"mightn't\", 'mustn',\\\r\n",
        "            \"mustn't\", 'needn', \"needn't\", 'shan', \"shan't\", 'shouldn', \"shouldn't\", 'wasn', \"wasn't\", 'weren', \"weren't\", \\\r\n",
        "            'won', \"won't\", 'wouldn', \"wouldn't\"])\r\n",
        "# Creating sets of stop keywords\r\n",
        "\r\n",
        "def rm_stop_words(sentence):\r\n",
        "    sentence = ' '.join(e for e in sentence.split() if e not in stopwords)\r\n",
        "    return sentence\r\n",
        "\r\n",
        "print(re.sub('[^A-Za-z0-9]+',' ',df[text].values[0]))                \r\n",
        "     \r\n",
        "    \r\n",
        "# def remove_stopword(col):\r\n",
        "#         col_list=[]\r\n",
        "#         txt_col_split=col.lower().replace('\\n',\" \").strip().split(\" \")\r\n",
        "        \r\n",
        "#         for word_ in txt_col_split:\r\n",
        "              \r\n",
        "#             if ((word_ not in stop_word_list) and len(word)>3):\r\n",
        "                \r\n",
        "#                 col_list.append(word_)\r\n",
        "\r\n",
        "#         return (col_list)\r\n",
        "\r\n",
        "df['altered_text']=df[text].apply(rm_stop_words)\r\n",
        "\r\n"
      ],
      "execution_count": 75,
      "outputs": [
        {
          "output_type": "stream",
          "text": [
            "It s good for beginners\n"
          ],
          "name": "stdout"
        }
      ]
    },
    {
      "cell_type": "code",
      "metadata": {
        "id": "taw8PRxM5ZVP"
      },
      "source": [
        "df['text_length']=df[text].apply(lambda col: len(col.split(' ')))\r\n"
      ],
      "execution_count": 76,
      "outputs": []
    },
    {
      "cell_type": "code",
      "metadata": {
        "colab": {
          "base_uri": "https://localhost:8080/",
          "height": 282
        },
        "id": "99sVugEH5gmF",
        "outputId": "c4b054eb-c69f-4990-84ee-cd37eb3d9f13"
      },
      "source": [
        "import matplotlib.pyplot as plt\r\n",
        "\r\n",
        "df['text_length'].hist(bins=1000);\r\n",
        "plt.xlim(0,400)\r\n",
        "plt.title('Review length distribution',fontsize=14);\r\n"
      ],
      "execution_count": 78,
      "outputs": [
        {
          "output_type": "display_data",
          "data": {
            "text/plain": [
              "<Figure size 432x288 with 1 Axes>"
            ],
            "image/png": "[encoded data removed]"
          },
          "metadata": {
            "tags": [],
            "needs_background": "light"
          }
        }
      ]
    },
    {
      "cell_type": "code",
      "metadata": {
        "colab": {
          "base_uri": "https://localhost:8080/"
        },
        "id": "7_xIaryX5r2P",
        "outputId": "0142740a-1dc9-4cfc-e4fb-73982b70fc46"
      },
      "source": [
        "df['text_length'].describe()\r\n"
      ],
      "execution_count": 79,
      "outputs": [
        {
          "output_type": "execute_result",
          "data": {
            "text/plain": [
              "count    219024.000000\n",
              "mean         56.605938\n",
              "std          97.689971\n",
              "min           1.000000\n",
              "25%           9.000000\n",
              "50%          26.000000\n",
              "75%          64.000000\n",
              "max        4008.000000\n",
              "Name: text_length, dtype: float64"
            ]
          },
          "metadata": {
            "tags": []
          },
          "execution_count": 79
        }
      ]
    },
    {
      "cell_type": "code",
      "metadata": {
        "colab": {
          "base_uri": "https://localhost:8080/",
          "height": 300
        },
        "id": "v0VHvGKd50Et",
        "outputId": "78a8a23a-63b1-46d1-cb12-accba5fae653"
      },
      "source": [
        "import seaborn as sns\r\n",
        "\r\n",
        "# plotting count of each review star\r\n",
        "sns.countplot(x='overall', data=df);\r\n",
        "plt.xlabel('overall',fontsize=14);\r\n",
        "plt.ylabel('Count',fontsize=14);\r\n",
        "plt.title('Review Score count',fontsize=14);\r\n",
        "plt.savefig('review_score_count.png')\r\n"
      ],
      "execution_count": 81,
      "outputs": [
        {
          "output_type": "display_data",
          "data": {
            "text/plain": [
              "<Figure size 432x288 with 1 Axes>"
            ],
            "image/png": "[encoded data removed]"
          },
          "metadata": {
            "tags": [],
            "needs_background": "light"
          }
        }
      ]
    },
    {
      "cell_type": "code",
      "metadata": {
        "id": "5ZUVRNi36ZdF"
      },
      "source": [
        "def score_pos_neg(col):\r\n",
        "    if col>3:\r\n",
        "        return 1\r\n",
        "    else:\r\n",
        "        return 0\r\n",
        "\r\n",
        "df['score_pos_neg']=df['overall'].apply(score_pos_neg)\r\n"
      ],
      "execution_count": 83,
      "outputs": []
    },
    {
      "cell_type": "code",
      "metadata": {
        "colab": {
          "base_uri": "https://localhost:8080/",
          "height": 300
        },
        "id": "sDrDj1hi6lfl",
        "outputId": "6f385367-c746-4066-9b0a-8f0d07fc740e"
      },
      "source": [
        "#plotting count of positive \"1\" and negative \"0\" reviews\r\n",
        "sns.countplot(x='score_pos_neg', data=df);\r\n",
        "plt.xlabel('Score 0/1',fontsize=14);\r\n",
        "plt.ylabel('Count',fontsize=14);\r\n",
        "plt.title('Review Score 0/1 count ',fontsize=14);\r\n",
        "plt.savefig('review_score_01count.png')\r\n"
      ],
      "execution_count": 85,
      "outputs": [
        {
          "output_type": "display_data",
          "data": {
            "text/plain": [
              "<Figure size 432x288 with 1 Axes>"
            ],
            "image/png": "[encoded data removed]"
          },
          "metadata": {
            "tags": [],
            "needs_background": "light"
          }
        }
      ]
    },
    {
      "cell_type": "code",
      "metadata": {
        "id": "PWXq_6ap6uct"
      },
      "source": [
        "df.to_csv('amazon_review_parsed.csv',index=False)\r\n"
      ],
      "execution_count": 86,
      "outputs": []
    },
    {
      "cell_type": "markdown",
      "metadata": {
        "id": "By1M2_dxcSU_"
      },
      "source": [
        "DATA PREPARATION:\r\n",
        "1. "
      ]
    },
    {
      "cell_type": "markdown",
      "metadata": {
        "id": "MmKyfFhnY3IC"
      },
      "source": [
        ""
      ]
    }
  ]
}